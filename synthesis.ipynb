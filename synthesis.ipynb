{
	"cells": [
		{
			"cell_type": "code",
			"execution_count": null,
			"metadata": {},
			"outputs": [],
			"source": [
				"!apt-get install espeak-ng\n",
				"%pip install -q git+https://github.com/phineas-pta/MatchaTTS_ngngngan.git\n",
				"\n",
				"import IPython.display as ipd\n",
				"import torch\n",
				"from huggingface_hub import hf_hub_download\n",
				"from matcha.cli import get_torch_device, load_matcha, load_vocoder, process_text, to_waveform\n",
				"\n",
				"MODEL_PATH = hf_hub_download(repo_id=\"doof-ferb/matcha_ngngngan\", filename=\"ckpt/checkpoint_epoch420_slim.ckpt\")\n",
				"VOCODER_PATH = hf_hub_download(repo_id=\"doof-ferb/matcha_ngngngan\", filename=\"hifigan/g_02500000\")\n",
				"DEVICE = get_torch_device()\n",
				"MODEL = load_matcha(MODEL_PATH, DEVICE)\n",
				"VOCODER, DENOISER = load_vocoder(VOCODER_PATH, DEVICE)\n",
				"\n",
				"@torch.inference_mode()\n",
				"def tts(text, n_timesteps, temperature, length_scale, denoiser_strength):\n",
				"\ttmp0 = process_text(text, DEVICE)\n",
				"\tphones, txt, txt_len = tmp0[\"x_phones\"][1::2], tmp0[\"x\"], tmp0[\"x_lengths\"]\n",
				"\toutput = MODEL.synthesise(txt, txt_len, n_timesteps=n_timesteps, temperature=temperature, spks=None, length_scale=length_scale)\n",
				"\twaveform = to_waveform(output[\"mel\"], VOCODER, DENOISER, denoiser_strength=denoiser_strength).numpy()\n",
				"\tipd.display(ipd.Audio(waveform, rate=22050))\n",
				"\tipd.display(ipd.Markdown(\"Văn bản dưới dạng mẫu tự biểu âm quốc tế (IPA), khẩu âm Hà Nội\\n\\n\" + phones))"
			]
		},
		{
			"cell_type": "code",
			"execution_count": null,
			"metadata": {},
			"outputs": [],
			"source": [
				"tts(\n",
				"\"\"\"Kính thưa quý vị, xin quý vị ghé vào thăm kênh Youtube Nguyễn Ngọc Ngạn,\n",
				"quý vị sẽ gặp lại tất cả các băng đọc truyện của Nguyễn Ngọc Ngạn do Trung tâm Thúy Nga thực hiện\n",
				"và những truyện mới cùng những buổi nói chuyện về nhiều đề tài phổ biến khác nhau.\n",
				"Xin chân thành cảm ơn và chờ đón quý vị.\"\"\",\n",
				"n_timesteps=50, temperature=0.667, length_scale=.95, denoiser_strength=2.5e-4\n",
				")"
			]
		}
	],
	"metadata": {
		"colab": {
			"private_outputs": true,
			"provenance": [],
			"gpuType": "T4"
		},
		"kernelspec": {
			"name": "python3",
			"display_name": "Python 3"
		},
		"language_info": {
			"name": "python"
		},
		"accelerator": "GPU"
	},
	"nbformat": 4,
	"nbformat_minor": 0
}
